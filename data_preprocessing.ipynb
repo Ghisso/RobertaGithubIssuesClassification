{
 "metadata": {
  "language_info": {
   "codemirror_mode": {
    "name": "ipython",
    "version": 3
   },
   "file_extension": ".py",
   "mimetype": "text/x-python",
   "name": "python",
   "nbconvert_exporter": "python",
   "pygments_lexer": "ipython3",
   "version": "3.7.4-final"
  },
  "orig_nbformat": 2,
  "kernelspec": {
   "name": "Python 3.7.4 64-bit ('base': conda)",
   "display_name": "Python 3.7.4 64-bit ('base': conda)",
   "metadata": {
    "interpreter": {
     "hash": "ecf5722fdaf1897a315d257d89d94520bfcaa453217d5becf09b39e73618b0de"
    }
   }
  }
 },
 "nbformat": 4,
 "nbformat_minor": 2,
 "cells": [
  {
   "source": [
    "# Imports and global variables"
   ],
   "cell_type": "markdown",
   "metadata": {}
  },
  {
   "cell_type": "code",
   "execution_count": 1,
   "metadata": {},
   "outputs": [],
   "source": [
    "import pandas as pd\n",
    "import os\n",
    "from sklearn.model_selection import train_test_split\n",
    "import numpy as np"
   ]
  },
  {
   "cell_type": "code",
   "execution_count": 2,
   "metadata": {},
   "outputs": [],
   "source": [
    "DATA_FOLDER = \"Data\""
   ]
  },
  {
   "source": [
    "# Data cleanup and transformation"
   ],
   "cell_type": "markdown",
   "metadata": {}
  },
  {
   "cell_type": "code",
   "execution_count": 3,
   "metadata": {},
   "outputs": [],
   "source": [
    "df = pd.read_csv(os.path.join(DATA_FOLDER, \"corefx-issues-train.tsv\"), sep=\"\\t\")"
   ]
  },
  {
   "cell_type": "code",
   "execution_count": 4,
   "metadata": {},
   "outputs": [
    {
     "output_type": "execute_result",
     "data": {
      "text/plain": "      ID                        Area  \\\n0  29338             area-System.Net   \n1  29337             area-System.Net   \n2  29334             area-System.Net   \n3  29331         area-Infrastructure   \n4  29329  area-System.ComponentModel   \n\n                                               Title  \\\n0  Include fragment and query in Uri.LocalPath on...   \n1  Unify setting null CookieContainer behavior on...   \n2  Check URI scheme length only after verifying t...   \n3  [Perf] Ubuntu16.04 runs blocked by multiple \"P...   \n4  Port System.ComponentModel.Composition.Registr...   \n\n                                         Description  \n0  While testing XmlUriResolver, @pjanotti discov...  \n1  For HttpClientHandler layer (above the WinHttp...  \n2  URI construction is failing on valid URIs unde...  \n3  [perf_ubuntu16.04_release](https://ci2.dot.net...  \n4  Greetings,    regarding [Port System.Component...  ",
      "text/html": "<div>\n<style scoped>\n    .dataframe tbody tr th:only-of-type {\n        vertical-align: middle;\n    }\n\n    .dataframe tbody tr th {\n        vertical-align: top;\n    }\n\n    .dataframe thead th {\n        text-align: right;\n    }\n</style>\n<table border=\"1\" class=\"dataframe\">\n  <thead>\n    <tr style=\"text-align: right;\">\n      <th></th>\n      <th>ID</th>\n      <th>Area</th>\n      <th>Title</th>\n      <th>Description</th>\n    </tr>\n  </thead>\n  <tbody>\n    <tr>\n      <th>0</th>\n      <td>29338</td>\n      <td>area-System.Net</td>\n      <td>Include fragment and query in Uri.LocalPath on...</td>\n      <td>While testing XmlUriResolver, @pjanotti discov...</td>\n    </tr>\n    <tr>\n      <th>1</th>\n      <td>29337</td>\n      <td>area-System.Net</td>\n      <td>Unify setting null CookieContainer behavior on...</td>\n      <td>For HttpClientHandler layer (above the WinHttp...</td>\n    </tr>\n    <tr>\n      <th>2</th>\n      <td>29334</td>\n      <td>area-System.Net</td>\n      <td>Check URI scheme length only after verifying t...</td>\n      <td>URI construction is failing on valid URIs unde...</td>\n    </tr>\n    <tr>\n      <th>3</th>\n      <td>29331</td>\n      <td>area-Infrastructure</td>\n      <td>[Perf] Ubuntu16.04 runs blocked by multiple \"P...</td>\n      <td>[perf_ubuntu16.04_release](https://ci2.dot.net...</td>\n    </tr>\n    <tr>\n      <th>4</th>\n      <td>29329</td>\n      <td>area-System.ComponentModel</td>\n      <td>Port System.ComponentModel.Composition.Registr...</td>\n      <td>Greetings,    regarding [Port System.Component...</td>\n    </tr>\n  </tbody>\n</table>\n</div>"
     },
     "metadata": {},
     "execution_count": 4
    }
   ],
   "source": [
    "df.head()"
   ]
  },
  {
   "source": [
    "## Remove nan values"
   ],
   "cell_type": "markdown",
   "metadata": {}
  },
  {
   "cell_type": "code",
   "execution_count": 5,
   "metadata": {},
   "outputs": [],
   "source": [
    "df = df.replace(np.nan, '', regex=True)"
   ]
  },
  {
   "cell_type": "code",
   "execution_count": 6,
   "metadata": {},
   "outputs": [
    {
     "output_type": "execute_result",
     "data": {
      "text/plain": "Empty DataFrame\nColumns: [ID, Area, Title, Description]\nIndex: []",
      "text/html": "<div>\n<style scoped>\n    .dataframe tbody tr th:only-of-type {\n        vertical-align: middle;\n    }\n\n    .dataframe tbody tr th {\n        vertical-align: top;\n    }\n\n    .dataframe thead th {\n        text-align: right;\n    }\n</style>\n<table border=\"1\" class=\"dataframe\">\n  <thead>\n    <tr style=\"text-align: right;\">\n      <th></th>\n      <th>ID</th>\n      <th>Area</th>\n      <th>Title</th>\n      <th>Description</th>\n    </tr>\n  </thead>\n  <tbody>\n  </tbody>\n</table>\n</div>"
     },
     "metadata": {},
     "execution_count": 6
    }
   ],
   "source": [
    "df[df.isnull().any(axis=1)]"
   ]
  },
  {
   "source": [
    "## Transform label values to numbers"
   ],
   "cell_type": "markdown",
   "metadata": {}
  },
  {
   "cell_type": "code",
   "execution_count": 7,
   "metadata": {},
   "outputs": [
    {
     "output_type": "execute_result",
     "data": {
      "text/plain": "array(['area-System.Net', 'area-Infrastructure',\n       'area-System.ComponentModel', 'area-System.Security',\n       'area-System.Runtime', 'area-System.IO', 'area-System.Xml',\n       'area-System.Collections', 'area-System.Threading',\n       'area-System.Reflection', 'area-System.Memory',\n       'area-System.Diagnostics', 'area-Serialization',\n       'area-System.Drawing', 'area-Meta', 'area-System.Data',\n       'area-Microsoft.CSharp', 'area-System.Numerics',\n       'area-System.Text', 'area-System.Globalization',\n       'area-System.Linq', 'area-System.Console'], dtype=object)"
     },
     "metadata": {},
     "execution_count": 7
    }
   ],
   "source": [
    "df.Area.unique()"
   ]
  },
  {
   "cell_type": "code",
   "execution_count": 8,
   "metadata": {},
   "outputs": [],
   "source": [
    "# Create a dictionary to easily go between label and its corresponding numeral value\n",
    "lookup = {}\n",
    "for i, area in enumerate(df.Area.unique()):\n",
    "    lookup[area] = i\n",
    "    lookup[i] = area"
   ]
  },
  {
   "cell_type": "code",
   "execution_count": 9,
   "metadata": {},
   "outputs": [
    {
     "output_type": "execute_result",
     "data": {
      "text/plain": "{'area-System.Net': 0,\n 0: 'area-System.Net',\n 'area-Infrastructure': 1,\n 1: 'area-Infrastructure',\n 'area-System.ComponentModel': 2,\n 2: 'area-System.ComponentModel',\n 'area-System.Security': 3,\n 3: 'area-System.Security',\n 'area-System.Runtime': 4,\n 4: 'area-System.Runtime',\n 'area-System.IO': 5,\n 5: 'area-System.IO',\n 'area-System.Xml': 6,\n 6: 'area-System.Xml',\n 'area-System.Collections': 7,\n 7: 'area-System.Collections',\n 'area-System.Threading': 8,\n 8: 'area-System.Threading',\n 'area-System.Reflection': 9,\n 9: 'area-System.Reflection',\n 'area-System.Memory': 10,\n 10: 'area-System.Memory',\n 'area-System.Diagnostics': 11,\n 11: 'area-System.Diagnostics',\n 'area-Serialization': 12,\n 12: 'area-Serialization',\n 'area-System.Drawing': 13,\n 13: 'area-System.Drawing',\n 'area-Meta': 14,\n 14: 'area-Meta',\n 'area-System.Data': 15,\n 15: 'area-System.Data',\n 'area-Microsoft.CSharp': 16,\n 16: 'area-Microsoft.CSharp',\n 'area-System.Numerics': 17,\n 17: 'area-System.Numerics',\n 'area-System.Text': 18,\n 18: 'area-System.Text',\n 'area-System.Globalization': 19,\n 19: 'area-System.Globalization',\n 'area-System.Linq': 20,\n 20: 'area-System.Linq',\n 'area-System.Console': 21,\n 21: 'area-System.Console'}"
     },
     "metadata": {},
     "execution_count": 9
    }
   ],
   "source": [
    "lookup"
   ]
  },
  {
   "cell_type": "code",
   "execution_count": 10,
   "metadata": {},
   "outputs": [],
   "source": [
    "# transform the Area column to be numeric using the lookup dict created above\n",
    "df.Area = df.Area.apply(lambda x: lookup[x])"
   ]
  },
  {
   "cell_type": "code",
   "execution_count": 11,
   "metadata": {},
   "outputs": [
    {
     "output_type": "execute_result",
     "data": {
      "text/plain": "0        0\n1        0\n2        0\n3        1\n4        2\n        ..\n1610     4\n1611     0\n1612    17\n1613     4\n1614     5\nName: Area, Length: 1615, dtype: int64"
     },
     "metadata": {},
     "execution_count": 11
    }
   ],
   "source": [
    "df.Area"
   ]
  },
  {
   "cell_type": "code",
   "execution_count": 12,
   "metadata": {},
   "outputs": [],
   "source": [
    "labels = df.Area\n",
    "titles = df.Title\n",
    "descriptions = df.Description"
   ]
  },
  {
   "source": [
    "## Transform data"
   ],
   "cell_type": "markdown",
   "metadata": {}
  },
  {
   "cell_type": "code",
   "execution_count": 13,
   "metadata": {},
   "outputs": [],
   "source": [
    "# Create a text column that will be the concatenation of the title and description columns\n",
    "text = []\n",
    "for title, description in zip(titles, descriptions):\n",
    "    text.append(\" \".join(title.split()) + \" \" + \" \".join(description.split()))"
   ]
  },
  {
   "cell_type": "code",
   "execution_count": 14,
   "metadata": {},
   "outputs": [
    {
     "output_type": "execute_result",
     "data": {
      "text/plain": "1615"
     },
     "metadata": {},
     "execution_count": 14
    }
   ],
   "source": [
    "len(labels)"
   ]
  },
  {
   "cell_type": "code",
   "execution_count": 15,
   "metadata": {},
   "outputs": [
    {
     "output_type": "execute_result",
     "data": {
      "text/plain": "1615"
     },
     "metadata": {},
     "execution_count": 15
    }
   ],
   "source": [
    "len(text)"
   ]
  },
  {
   "cell_type": "code",
   "execution_count": 16,
   "metadata": {},
   "outputs": [
    {
     "output_type": "execute_result",
     "data": {
      "text/plain": "[\"Include fragment and query in Uri.LocalPath on Unix While testing XmlUriResolver, @pjanotti discovered that any segments of a file path following a '#' symbol will be cut out of Uri.LocalPath on Unix. Based on additional tests, this also occurs for the '?' symbol. This is happening because the Unix specific case for local path only uses the path component of the URI: https://github.com/dotnet/corefx/blob/9e8d443ff78c4f0a9a6bedf7f95961cf96ceff0a/src/System.Private.Uri/src/System/Uri.cs#L1032-L1037 The fix here is to include the fragment and query in LocalPath in the Unix path specific case. This PR enables the test case in XmlUriResolver that uncovered this issues, and adds some additional cases to our URI tests. Fixes: #28486\",\n \"Unify setting null CookieContainer behavior on HttpClientHandler For HttpClientHandler layer (above the WinHttpHandler layer on Windows), we should be consistent and throw the exception in the CookieContainer setter when null value is provided, to match .NET Framework's behavior. This would keep the same behavior across all platforms for the setter of the HttpClientHandler.CookieContainer property. Close: #3205\",\n 'Check URI scheme length only after verifying the scheme contains valid characters URI construction is failing on valid URIs under the following conditions: - An absolute URI is constructed using the `Uri(Uri absolute, string relative)` constructor. - The relative string begins with 1024+ characters, followed by a colon. - The relative string contains but does not begin with a forward or back slash. See the test added in this PR for an example URI. The fix is to check the scheme length _after_ validating that the potential scheme contains only legal characters (ie, not a forward or back slash). This keeps us from running into the situation above, where the relative URI contains a colon that is unambiguously not a scheme separator because the \"scheme\" is actually just a path that contains a colon. This fix improves the correctness of our relative path parsing at the cost of an additional stacalloc in the case where the relative part of the URI is really an absolute URI with a scheme length >= 1024. Fixes: #29011 Details below: --------- When we construct an absolute URI from a relative URI, the first thing we try to do is parse the relative URI as an absolute URI. That parsing process returns an error code that we use to determine what happens next. The parsing errors are as follows: https://github.com/dotnet/corefx/blob/bffef76f6af208e2042a2f27bc081ee908bb390b/src/System.Private.Uri/src/System/UriEnumTypes.cs#L67-L93 If we successfully parse an absolute URI (error = None), we return that URI and ignore the absolute URI we were passed. That might seem a little odd, but it\\'s a useful behavior in practice. If we get an error that is less than `LastRelativeUriOkErrIndex`(see the code above), we attempt to create a relative URI from the string and then root it with the absolute URI provided. If we return any other error, we believe that the string is neither a valid relative or absolute URI and throw an exception. In this case, PrivateParseMinimal is returning the error `SchemeLimit`, which indicates that we have too large of a scheme. As documented in the code above, this isn\\'t considered a recoverable error. The relative string provided has some characters that are clearly invalid in a scheme, so the real error we should be returning from TryParse is `InvalidScheme`. Since `InvalidScheme` is less than `LastRelativeUriOkErrIndex`, we will then be able to create a relative URI. Fixing the returned parsing error allows this URI to be constructed successfully.',\n '[Perf] Ubuntu16.04 runs blocked by multiple \"PE file is already strong-name signed.\" errors [perf_ubuntu16.04_release](https://ci2.dot.net/job/dotnet_corefx/job/perf/job/master/job/perf_ubuntu16.04_release/1715/consoleText) ```bash bash ./build-managed.sh -release -tests -- /p:Performance=true /p:TargetOS=Linux /m:1 /p:LogToBenchview=true /p:BenchviewRunType=rolling /p:PerformanceType=Profile ``` ... /home/administrator/jenkins/w/dotnet_corefx/perf/master/perf_ubuntu16.04_release/Tools/sign.targets(113,5): error : /home/administrator/jenkins/w/dotnet_corefx/perf/master/perf_ubuntu16.04_release/bin/obj/ref/System.Threading.Tasks.Dataflow/4.6.3.0/netstandard/System.Threading.Tasks.Dataflow.dll: PE file is already strong-name signed. [/home/administrator/jenkins/w/dotnet_corefx/perf/master/perf_ubuntu16.04_release/src/System.Threading.Tasks.Dataflow/ref/System.Threading.Tasks.Dataflow.csproj] 0 Warning(s) 32 Error(s)',\n 'Port System.ComponentModel.Composition.Registration (MEF1) to .NET Core Greetings, regarding [Port System.ComponentModel.Composition (MEF1) to .NET Core](https://github.com/dotnet/corefx/issues/11857) the following is still missing: - `System.ComponentModel.Composition.Registration.RegistrationBuilder` - `System.ComponentModel.Composition.Registration.PartBuilder` - `System.ComponentModel.Composition.Registration.PartBuilder<>` See also https://github.com/dotnet/corefx/issues/11857#issuecomment-382342975 edit by @ViktorHofer: fixed link.']"
     },
     "metadata": {},
     "execution_count": 16
    }
   ],
   "source": [
    "text[:5]"
   ]
  },
  {
   "cell_type": "code",
   "execution_count": 17,
   "metadata": {},
   "outputs": [
    {
     "output_type": "execute_result",
     "data": {
      "text/plain": "0    0\n1    0\n2    0\n3    1\n4    2\nName: Area, dtype: int64"
     },
     "metadata": {},
     "execution_count": 17
    }
   ],
   "source": [
    "labels[:5]"
   ]
  },
  {
   "cell_type": "code",
   "execution_count": 18,
   "metadata": {},
   "outputs": [
    {
     "output_type": "execute_result",
     "data": {
      "text/plain": "['area-System.Net',\n 'area-System.Net',\n 'area-System.Net',\n 'area-Infrastructure',\n 'area-System.ComponentModel']"
     },
     "metadata": {},
     "execution_count": 18
    }
   ],
   "source": [
    "[lookup[x] for x in labels[:5]]"
   ]
  },
  {
   "source": [
    "## Create new DataFrame with transformed data"
   ],
   "cell_type": "markdown",
   "metadata": {}
  },
  {
   "cell_type": "code",
   "execution_count": 19,
   "metadata": {},
   "outputs": [],
   "source": [
    "df = pd.DataFrame(list(zip(text, labels)), columns =['Text', 'Label'])"
   ]
  },
  {
   "cell_type": "code",
   "execution_count": 20,
   "metadata": {},
   "outputs": [
    {
     "output_type": "execute_result",
     "data": {
      "text/plain": "                                                Text  Label\n0  Include fragment and query in Uri.LocalPath on...      0\n1  Unify setting null CookieContainer behavior on...      0\n2  Check URI scheme length only after verifying t...      0\n3  [Perf] Ubuntu16.04 runs blocked by multiple \"P...      1\n4  Port System.ComponentModel.Composition.Registr...      2",
      "text/html": "<div>\n<style scoped>\n    .dataframe tbody tr th:only-of-type {\n        vertical-align: middle;\n    }\n\n    .dataframe tbody tr th {\n        vertical-align: top;\n    }\n\n    .dataframe thead th {\n        text-align: right;\n    }\n</style>\n<table border=\"1\" class=\"dataframe\">\n  <thead>\n    <tr style=\"text-align: right;\">\n      <th></th>\n      <th>Text</th>\n      <th>Label</th>\n    </tr>\n  </thead>\n  <tbody>\n    <tr>\n      <th>0</th>\n      <td>Include fragment and query in Uri.LocalPath on...</td>\n      <td>0</td>\n    </tr>\n    <tr>\n      <th>1</th>\n      <td>Unify setting null CookieContainer behavior on...</td>\n      <td>0</td>\n    </tr>\n    <tr>\n      <th>2</th>\n      <td>Check URI scheme length only after verifying t...</td>\n      <td>0</td>\n    </tr>\n    <tr>\n      <th>3</th>\n      <td>[Perf] Ubuntu16.04 runs blocked by multiple \"P...</td>\n      <td>1</td>\n    </tr>\n    <tr>\n      <th>4</th>\n      <td>Port System.ComponentModel.Composition.Registr...</td>\n      <td>2</td>\n    </tr>\n  </tbody>\n</table>\n</div>"
     },
     "metadata": {},
     "execution_count": 20
    }
   ],
   "source": [
    "df.head()"
   ]
  },
  {
   "cell_type": "code",
   "execution_count": 21,
   "metadata": {},
   "outputs": [],
   "source": [
    "# Split into traning and validation sets, use stratify to have same distribution of data in both sets\n",
    "train_df, val_df = train_test_split(df, test_size=0.2, random_state=42, stratify=labels)"
   ]
  },
  {
   "cell_type": "code",
   "execution_count": 22,
   "metadata": {
    "tags": []
   },
   "outputs": [
    {
     "output_type": "stream",
     "name": "stdout",
     "text": "1292\n323\n"
    }
   ],
   "source": [
    "print(len(train_df))\n",
    "print(len(val_df))"
   ]
  },
  {
   "cell_type": "code",
   "execution_count": 23,
   "metadata": {},
   "outputs": [],
   "source": [
    "# Save the CSVs\n",
    "train_df.to_csv(os.path.join(DATA_FOLDER, \"corefx_cleaned_train.csv\"), index=False)\n",
    "val_df.to_csv(os.path.join(DATA_FOLDER, \"corefx_cleaned_val.csv\"), index=False)"
   ]
  },
  {
   "cell_type": "code",
   "execution_count": 24,
   "metadata": {},
   "outputs": [],
   "source": [
    "# Save the lookup dict\n",
    "import json\n",
    "\n",
    "with open(os.path.join(DATA_FOLDER, 'lookup.json'), 'w') as f:\n",
    "    json.dump(lookup, f, indent=4)"
   ]
  }
 ]
}